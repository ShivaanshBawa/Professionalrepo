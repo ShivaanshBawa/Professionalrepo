{
  "cells": [
    {
      "cell_type": "markdown",
      "metadata": {
        "id": "view-in-github",
        "colab_type": "text"
      },
      "source": [
        "<a href=\"https://colab.research.google.com/github/ShivaanshBawa/Professionalrepo/blob/main/Movie_recommendation_system.ipynb\" target=\"_parent\"><img src=\"https://colab.research.google.com/assets/colab-badge.svg\" alt=\"Open In Colab\"/></a>"
      ]
    },
    {
      "cell_type": "code",
      "execution_count": null,
      "metadata": {
        "colab": {
          "base_uri": "https://localhost:8080/"
        },
        "id": "v7oTi564OT8L",
        "outputId": "e6dee7dc-51b7-4a14-900f-6bc8d134b45a"
      },
      "outputs": [
        {
          "name": "stdout",
          "output_type": "stream",
          "text": [
            "Mounted at /content/drive\n"
          ]
        }
      ],
      "source": [
        "from google.colab import drive\n",
        "drive.mount('/content/drive')"
      ]
    },
    {
      "cell_type": "markdown",
      "source": [
        "Importing important libraries"
      ],
      "metadata": {
        "id": "cHC8FDXI_bhK"
      }
    },
    {
      "cell_type": "code",
      "execution_count": null,
      "metadata": {
        "id": "2V9gbocROAuX"
      },
      "outputs": [],
      "source": [
        "import numpy as np\n",
        "import pandas as pd\n",
        "import csv"
      ]
    },
    {
      "cell_type": "code",
      "execution_count": null,
      "metadata": {
        "id": "uMmHizHDR9HG"
      },
      "outputs": [],
      "source": [
        "movies = pd.read_csv('drive/MyDrive/moviereco/movies.csv')"
      ]
    },
    {
      "cell_type": "code",
      "execution_count": null,
      "metadata": {
        "id": "j9ZVusApSp3N"
      },
      "outputs": [],
      "source": [
        "movies.head()"
      ]
    },
    {
      "cell_type": "code",
      "execution_count": null,
      "metadata": {
        "id": "yYEBio47S91a"
      },
      "outputs": [],
      "source": [
        "credits=pd.read_csv('drive/MyDrive/moviereco/credits.csv')"
      ]
    },
    {
      "cell_type": "code",
      "execution_count": null,
      "metadata": {
        "id": "Sq37hAmTTRfS"
      },
      "outputs": [],
      "source": [
        "credits.head()"
      ]
    },
    {
      "cell_type": "code",
      "execution_count": null,
      "metadata": {
        "colab": {
          "background_save": true
        },
        "id": "HAtR4SoeTY0-"
      },
      "outputs": [],
      "source": [
        "movies = movies.merge(credits,on = 'title')"
      ]
    },
    {
      "cell_type": "code",
      "execution_count": null,
      "metadata": {
        "id": "spfVVWqsTyge"
      },
      "outputs": [],
      "source": [
        "movies.info()"
      ]
    },
    {
      "cell_type": "markdown",
      "source": [
        "extracting names of actors and directors from credits.csv"
      ],
      "metadata": {
        "id": "-SjOf5bhnkji"
      }
    },
    {
      "cell_type": "code",
      "execution_count": null,
      "metadata": {
        "id": "UALeSyoDVX95"
      },
      "outputs": [],
      "source": [
        "\n",
        "import ast\n",
        "def str_list(x):\n",
        "  x=ast.literal_eval(x)\n",
        "  l=[]\n",
        "  for item in x:\n",
        "\n",
        "    l.append(item['name'])\n",
        "\n",
        "  return l"
      ]
    },
    {
      "cell_type": "code",
      "execution_count": null,
      "metadata": {
        "id": "IAnVJMh3WkCo"
      },
      "outputs": [],
      "source": [
        "movies[\"cast\"]=movies[\"cast\"].apply(str_list)"
      ]
    },
    {
      "cell_type": "code",
      "execution_count": null,
      "metadata": {
        "id": "oZOd67XzW14W"
      },
      "outputs": [],
      "source": [
        "\n",
        "import ast\n",
        "def str2_list(x):\n",
        "  x=ast.literal_eval(x)\n",
        "  l=[]\n",
        "  for item in x:\n",
        "    if item['job']==\"Director\":\n",
        "      l.append(item['name'])\n",
        "\n",
        "  return l"
      ]
    },
    {
      "cell_type": "code",
      "execution_count": null,
      "metadata": {
        "id": "MhIZekgIXVLj"
      },
      "outputs": [],
      "source": [
        "movies[\"crew\"]=movies[\"crew\"].apply(str2_list)"
      ]
    },
    {
      "cell_type": "code",
      "execution_count": null,
      "metadata": {
        "id": "yhqPSzNoXaSm"
      },
      "outputs": [],
      "source": [
        "movies[\"cast\"]"
      ]
    },
    {
      "cell_type": "code",
      "execution_count": null,
      "metadata": {
        "id": "iWBVHM5HXhhF"
      },
      "outputs": [],
      "source": [
        "movies[\"crew\"]"
      ]
    },
    {
      "cell_type": "code",
      "execution_count": null,
      "metadata": {
        "id": "qvv4H6FWXoxs"
      },
      "outputs": [],
      "source": [
        "\n",
        "movies[\"genres\"]=movies['genres'].apply(str_list)\n",
        "movies[\"keywords\"]=movies['keywords'].apply(str_list)"
      ]
    },
    {
      "cell_type": "markdown",
      "source": [
        "Finding NA values"
      ],
      "metadata": {
        "id": "uLZu8PUQ_VC8"
      }
    },
    {
      "cell_type": "code",
      "execution_count": null,
      "metadata": {
        "id": "BaS3UHxMUNE9"
      },
      "outputs": [],
      "source": [
        "movies.isna().sum()"
      ]
    },
    {
      "cell_type": "code",
      "execution_count": null,
      "metadata": {
        "id": "0pAsH4OVUY0_"
      },
      "outputs": [],
      "source": [
        "movies.sample(5)"
      ]
    },
    {
      "cell_type": "markdown",
      "source": [
        "Removing space"
      ],
      "metadata": {
        "id": "yNVsa8yD_OPI"
      }
    },
    {
      "cell_type": "code",
      "execution_count": null,
      "metadata": {
        "id": "WIQ1cWgZYtZ8"
      },
      "outputs": [],
      "source": [
        "def join(x):\n",
        "  space=[]\n",
        "  for i in x:\n",
        "    space.append(i.replace(\" \",\"\"))\n",
        "  return space"
      ]
    },
    {
      "cell_type": "code",
      "execution_count": null,
      "metadata": {
        "id": "Bf-rPNk9Zx2e"
      },
      "outputs": [],
      "source": [
        "movies[\"cast\"]=movies[\"cast\"].apply(join)"
      ]
    },
    {
      "cell_type": "code",
      "execution_count": null,
      "metadata": {
        "id": "09Bb7T9dZ6z8"
      },
      "outputs": [],
      "source": [
        "movies[\"cast\"]=movies[\"cast\"].apply(lambda i:i[0:3])"
      ]
    },
    {
      "cell_type": "code",
      "execution_count": null,
      "metadata": {
        "id": "kWbkGE9saIEg"
      },
      "outputs": [],
      "source": [
        "movies[\"cast\"]"
      ]
    },
    {
      "cell_type": "markdown",
      "source": [
        "Columns needed for recommendation"
      ],
      "metadata": {
        "id": "_diQWR04_KLw"
      }
    },
    {
      "cell_type": "code",
      "execution_count": null,
      "metadata": {
        "id": "To1U3zY7aZTU"
      },
      "outputs": [],
      "source": [
        "new_df=pd.DataFrame(movies,columns=['id','homepage','title','cast','crew','overview','genres','keywords'])"
      ]
    },
    {
      "cell_type": "code",
      "execution_count": null,
      "metadata": {
        "id": "f0BvvjlIabIa"
      },
      "outputs": [],
      "source": [
        "new_df.head(5)"
      ]
    },
    {
      "cell_type": "code",
      "execution_count": null,
      "metadata": {
        "id": "X7Ld5GVqajB_"
      },
      "outputs": [],
      "source": [
        "new_df['crew']=new_df['crew'].apply(join)"
      ]
    },
    {
      "cell_type": "code",
      "execution_count": null,
      "metadata": {
        "id": "rUKLHpJKLO0f"
      },
      "outputs": [],
      "source": [
        "new_df.head()"
      ]
    },
    {
      "cell_type": "code",
      "execution_count": null,
      "metadata": {
        "id": "aVIlgNKkMzBw"
      },
      "outputs": [],
      "source": [
        "new_df.isna().sum()"
      ]
    },
    {
      "cell_type": "code",
      "execution_count": null,
      "metadata": {
        "id": "And8_sWKM_XY"
      },
      "outputs": [],
      "source": [
        "new_df[\"homepage\"]=new_df[\"homepage\"].fillna(0)"
      ]
    },
    {
      "cell_type": "code",
      "execution_count": null,
      "metadata": {
        "id": "v_0btvh8NAwI"
      },
      "outputs": [],
      "source": [
        "url=list(enumerate(new_df[\"homepage\"]))\n",
        "new_df[\"urls\"]=0\n",
        "for i in range(len(url)):\n",
        "  if new_df[\"homepage\"][i]==0:\n",
        "\n",
        "    x=(\"{}/{}\".format(\"https://www.\",str(\"\".join(list(new_df[\"title\"][url[i][0]].split())))))\n",
        "\n",
        "    new_df[\"urls\"][i]=x\n",
        "  else:\n",
        "    new_df[\"urls\"][i]=new_df[\"homepage\"][i]"
      ]
    },
    {
      "cell_type": "code",
      "execution_count": null,
      "metadata": {
        "id": "OYtk5mb3OeYy"
      },
      "outputs": [],
      "source": [
        "# def link(url,i):\n",
        "#   s=url\n",
        "#   x=\"{} + {}\".format(\"https://www.\",str(new_df.iloc[[url[i][0]]].title))\n",
        "#   iF s is \"link\"\n",
        "#     return x\n",
        "#   else:\n",
        "#     return s\n",
        "# # new_df[new_df[\"homepage\"].fillna(\"{} + {}\".format(\"https://www.\",new_df[\"title\"]]))\n",
        "new_df[\"urls\"]"
      ]
    },
    {
      "cell_type": "code",
      "execution_count": null,
      "metadata": {
        "id": "T3RRD978OrkA"
      },
      "outputs": [],
      "source": [
        "# new_df.iloc[[0]].title\n",
        "new_df.sample(5)"
      ]
    },
    {
      "cell_type": "markdown",
      "source": [
        "To convert string into list of strings"
      ],
      "metadata": {
        "id": "UdrqlGTO-5hv"
      }
    },
    {
      "cell_type": "code",
      "execution_count": null,
      "metadata": {
        "id": "K7Vo9FI7FklE"
      },
      "outputs": [],
      "source": [
        "\n",
        "def splitting(text):\n",
        "  text=str(text).split()\n",
        "  return text"
      ]
    },
    {
      "cell_type": "code",
      "execution_count": null,
      "metadata": {
        "id": "5CGFvle_O5fO"
      },
      "outputs": [],
      "source": [
        "new_df['overview']=new_df['overview'].apply(splitting)"
      ]
    },
    {
      "cell_type": "code",
      "execution_count": null,
      "metadata": {
        "id": "Zdw7W3LCPP_z"
      },
      "outputs": [],
      "source": [
        "new_df['all_tags']=new_df['overview'] + new_df['genres'] + new_df['keywords'] + new_df['cast'] + new_df['crew']"
      ]
    },
    {
      "cell_type": "code",
      "execution_count": null,
      "metadata": {
        "id": "NFHPm7TwPXFl"
      },
      "outputs": [],
      "source": [
        "new_df.drop(columns=['overview','genres' ,'keywords','cast' , 'crew','homepage'],inplace=True)"
      ]
    },
    {
      "cell_type": "code",
      "execution_count": null,
      "metadata": {
        "id": "ufeY3-NOPmqh"
      },
      "outputs": [],
      "source": [
        "new_df.head()"
      ]
    },
    {
      "cell_type": "markdown",
      "source": [
        "Converting all tags in lowercase"
      ],
      "metadata": {
        "id": "McY79qN_-yW-"
      }
    },
    {
      "cell_type": "code",
      "execution_count": null,
      "metadata": {
        "id": "piRVQjLpGJCt"
      },
      "outputs": [],
      "source": [
        "def convert_lower(text):\n",
        "  l=[]\n",
        "  for item in text:\n",
        "    l.append(item.lower())\n",
        "  return l"
      ]
    },
    {
      "cell_type": "code",
      "execution_count": null,
      "metadata": {
        "id": "wNDfF5syGNSL"
      },
      "outputs": [],
      "source": [
        "new_df['all_tags']=new_df['all_tags'].apply(convert_lower)"
      ]
    },
    {
      "cell_type": "code",
      "execution_count": null,
      "metadata": {
        "id": "U0jDrR6hGQgL"
      },
      "outputs": [],
      "source": [
        "new_df.head()"
      ]
    },
    {
      "cell_type": "code",
      "execution_count": null,
      "metadata": {
        "id": "ByViIno_GUzq"
      },
      "outputs": [],
      "source": [
        "pip install nltk"
      ]
    },
    {
      "cell_type": "code",
      "execution_count": null,
      "metadata": {
        "id": "m-Z14C8mG4cS"
      },
      "outputs": [],
      "source": [
        "import nltk\n",
        "from nltk.stem.porter import PorterStemmer\n",
        "ps=PorterStemmer()\n",
        "def steming(text):\n",
        "  l=[]\n",
        "  for i in text:\n",
        "\n",
        "    l.append(ps.stem(i))\n",
        "  return l"
      ]
    },
    {
      "cell_type": "code",
      "execution_count": null,
      "metadata": {
        "id": "1qZGRB3xG9AV"
      },
      "outputs": [],
      "source": [
        "new_df['all_tags']=new_df['all_tags'].apply(steming)"
      ]
    },
    {
      "cell_type": "code",
      "execution_count": null,
      "metadata": {
        "id": "Y_4JeBNWG_4a"
      },
      "outputs": [],
      "source": [
        "new_df.sample(5)"
      ]
    },
    {
      "cell_type": "code",
      "execution_count": null,
      "metadata": {
        "id": "H5FXVBFoHQ1Q"
      },
      "outputs": [],
      "source": [
        "new_df[\"all_tags\"]=new_df[\"all_tags\"].apply(join)"
      ]
    },
    {
      "cell_type": "code",
      "execution_count": null,
      "metadata": {
        "id": "ygiTU84CHXWA"
      },
      "outputs": [],
      "source": [
        "new_df['all_tags'] = new_df['all_tags'].apply(lambda x: \" \".join(x))"
      ]
    },
    {
      "cell_type": "markdown",
      "source": [
        "Vectorization"
      ],
      "metadata": {
        "id": "DAj8OI-z-tTH"
      }
    },
    {
      "cell_type": "code",
      "execution_count": null,
      "metadata": {
        "id": "iRnnDfWXHl64"
      },
      "outputs": [],
      "source": [
        "\n",
        "from sklearn.feature_extraction.text import CountVectorizer\n",
        "cv = CountVectorizer(stop_words='english')"
      ]
    },
    {
      "cell_type": "code",
      "execution_count": null,
      "metadata": {
        "id": "1BR0QvtvHv22"
      },
      "outputs": [],
      "source": [
        "data = cv.fit_transform(new_df['all_tags']).toarray()\n",
        "data"
      ]
    },
    {
      "cell_type": "code",
      "execution_count": null,
      "metadata": {
        "id": "1Dr-Z4m2H4BX"
      },
      "outputs": [],
      "source": [
        "from sklearn.metrics.pairwise import cosine_similarity\n",
        "similarity = cosine_similarity(data)\n",
        "similarity"
      ]
    },
    {
      "cell_type": "code",
      "execution_count": null,
      "metadata": {
        "id": "wiFJtPC9H88f"
      },
      "outputs": [],
      "source": [
        "def movie_recommend(movie):\n",
        "    index = new_df[new_df['title'] == movie].index[0]\n",
        "    distances = sorted(list(enumerate(similarity[index])),reverse=True,key = lambda x: x[1])\n",
        "    for i in distances[1:8]:\n",
        "\n",
        "\n",
        "      print(\"{} {}\".format(new_df.iloc[i[0]].title,new_df.iloc[i[0]].urls))"
      ]
    },
    {
      "cell_type": "code",
      "execution_count": null,
      "metadata": {
        "id": "zLCOrTUWH-eo"
      },
      "outputs": [],
      "source": [
        "movie_recommend(\"Batman\")"
      ]
    },
    {
      "cell_type": "markdown",
      "source": [
        "Importing pickle"
      ],
      "metadata": {
        "id": "vizBqApu_mJg"
      }
    },
    {
      "cell_type": "code",
      "execution_count": null,
      "metadata": {
        "id": "hESBgMCIKZx2"
      },
      "outputs": [],
      "source": [
        "import pickle"
      ]
    },
    {
      "cell_type": "code",
      "execution_count": null,
      "metadata": {
        "id": "KOvwATxXKgCh"
      },
      "outputs": [],
      "source": [
        "pickle.dump(new_df,open(\"movie_recm.pkl\",\"wb\"))\n",
        "pickle.dump(similarity,open(\"similarity.pkl\",\"wb\"))"
      ]
    },
    {
      "cell_type": "code",
      "execution_count": null,
      "metadata": {
        "id": "dk04A25zKj1B"
      },
      "outputs": [],
      "source": [
        "np.array(new_df[\"title\"])"
      ]
    }
  ],
  "metadata": {
    "colab": {
      "provenance": [],
      "include_colab_link": true
    },
    "kernelspec": {
      "display_name": "Python 3",
      "name": "python3"
    }
  },
  "nbformat": 4,
  "nbformat_minor": 0
}